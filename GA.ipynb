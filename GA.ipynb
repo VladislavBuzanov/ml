{
  "nbformat": 4,
  "nbformat_minor": 0,
  "metadata": {
    "colab": {
      "name": "GA.ipynb",
      "provenance": [],
      "collapsed_sections": [],
      "authorship_tag": "ABX9TyMKBdOzWq12cbFanLwsFVpa",
      "include_colab_link": true
    },
    "kernelspec": {
      "name": "python3",
      "display_name": "Python 3"
    },
    "language_info": {
      "name": "python"
    }
  },
  "cells": [
    {
      "cell_type": "markdown",
      "metadata": {
        "id": "view-in-github",
        "colab_type": "text"
      },
      "source": [
        "<a href=\"https://colab.research.google.com/github/VladislavBuzanov/ml/blob/main/GA.ipynb\" target=\"_parent\"><img src=\"https://colab.research.google.com/assets/colab-badge.svg\" alt=\"Open In Colab\"/></a>"
      ]
    },
    {
      "cell_type": "code",
      "execution_count": 1,
      "metadata": {
        "id": "0oKaAeU8Wn9X"
      },
      "outputs": [],
      "source": [
        "import random\n",
        "from functools import reduce\n",
        "\n",
        "x_count = 4\n",
        "\n",
        "param_values = [random.randint(0, 10) for x in range(x_count)]  \n",
        "possible_x_values = [random.randint(0, 5) for x in range(x_count)]"
      ]
    },
    {
      "cell_type": "code",
      "source": [
        "def select(generation, params, result, limit=4):\n",
        "    sorted_by_fn = sorted(generation, key=lambda individual: abs(result - function(params, individual)))\n",
        "    return sorted_by_fn[:limit]"
      ],
      "metadata": {
        "id": "bA0jVMedYuiA"
      },
      "execution_count": 2,
      "outputs": []
    },
    {
      "cell_type": "code",
      "source": [
        "def mate(parent1, parent2):\n",
        "    temp_array = [parent1, parent2]\n",
        "    child = []\n",
        "\n",
        "    for i in range(x_count):\n",
        "        child.append(temp_array[random.randint(0, 1)][i])\n",
        "\n",
        "    return child"
      ],
      "metadata": {
        "id": "82bq3aPAZKQl"
      },
      "execution_count": 3,
      "outputs": []
    },
    {
      "cell_type": "code",
      "source": [
        "def mutate(generation):\n",
        "    for individual in generation:\n",
        "        for i in range(x_count):\n",
        "            individual[i] += random.randint(-2, 2)"
      ],
      "metadata": {
        "id": "Iu-W1gzgY5Lo"
      },
      "execution_count": 4,
      "outputs": []
    },
    {
      "cell_type": "code",
      "source": [
        "def function(param_values, possible_x_values):\n",
        "  return sum([param_values[i] * possible_x_values[i] for i in range(x_count)])"
      ],
      "metadata": {
        "id": "ZOYYwJzGYsYz"
      },
      "execution_count": 5,
      "outputs": []
    },
    {
      "cell_type": "code",
      "source": [
        "def reproduce(generation):\n",
        "    new_generation = []\n",
        "\n",
        "    while len(generation) > 1:\n",
        "        individual = generation.pop()\n",
        "\n",
        "        best_candidate_diff = -1\n",
        "        best_candidate = -1\n",
        "\n",
        "        for candidate in generation:\n",
        "            candidate_diff = 0\n",
        "            for i in range(x_count):\n",
        "                candidate_diff += abs(individual[i] - candidate[i])\n",
        "\n",
        "            if candidate_diff > best_candidate_diff:\n",
        "                best_candidate_diff = candidate_diff\n",
        "                best_candidate = candidate\n",
        "\n",
        "        generation.remove(best_candidate)\n",
        "\n",
        "        child_count = random.randint(2, 4)\n",
        "        for i in range(child_count):\n",
        "            child = mate(individual, best_candidate)\n",
        "            new_generation.append(child)\n",
        "\n",
        "    return new_generation"
      ],
      "metadata": {
        "id": "3o8ggvYsYqE9"
      },
      "execution_count": 6,
      "outputs": []
    },
    {
      "cell_type": "code",
      "source": [
        "def first_generation():\n",
        "    individuals = []\n",
        "\n",
        "    for i in range(4):\n",
        "        individual = [random.randint(1, 20) for _ in range(x_count)]\n",
        "        individuals.append(individual)\n",
        "\n",
        "    return individuals"
      ],
      "metadata": {
        "id": "10s5Hv8mYnY6"
      },
      "execution_count": 7,
      "outputs": []
    },
    {
      "cell_type": "code",
      "source": [
        "result = function(param_values, possible_x_values)\n",
        "\n",
        "print(\"Решаемое уравнение: \")\n",
        "print(reduce(lambda x, y: x + \" + \" + y, [str(param_values[i]) + \" * x\" + str(i) for i in range(x_count)]) + \" = \" + str(result))\n",
        "solution = None\n",
        "generation_limit = 5000\n",
        "generation_number = 0\n",
        "current_generation = first_generation()\n",
        "while True:\n",
        "    current_generation = reproduce(current_generation)\n",
        "    mutate(current_generation)\n",
        "    current_generation = select(current_generation, param_values, result)\n",
        "    print('номер поколения:', generation_number, ', лучшая особь', current_generation[0], ', разница', function(param_values, current_generation[0]) - result)\n",
        "    if function(param_values, current_generation[0]) == result:\n",
        "        solution = current_generation[0]\n",
        "        break\n",
        "    generation_number += 1\n",
        "    if generation_number > generation_limit:\n",
        "        break\n",
        "print('решение', solution)\n",
        "print('поколений было', generation_number)"
      ],
      "metadata": {
        "colab": {
          "base_uri": "https://localhost:8080/"
        },
        "id": "AwxCgQ8iYxof",
        "outputId": "5d5bc5b8-1561-4330-d344-d128d8271610"
      },
      "execution_count": 8,
      "outputs": [
        {
          "output_type": "stream",
          "name": "stdout",
          "text": [
            "Решаемое уравнение: \n",
            "6 * x0 + 4 * x1 + 7 * x2 + 5 * x3 = 54\n",
            "номер поколения: 0 , лучшая особь [2, 19, 7, 17] , разница 168\n",
            "номер поколения: 1 , лучшая особь [2, 20, 5, 14] , разница 143\n",
            "номер поколения: 2 , лучшая особь [-3, 20, 12, 17] , разница 177\n",
            "номер поколения: 3 , лучшая особь [-2, 13, 10, 18] , разница 146\n",
            "номер поколения: 4 , лучшая особь [-1, 11, 14, 17] , разница 167\n",
            "номер поколения: 5 , лучшая особь [-3, 25, 12, 17] , разница 197\n",
            "номер поколения: 6 , лучшая особь [0, 21, 7, 20] , разница 179\n",
            "номер поколения: 7 , лучшая особь [1, 21, 6, 19] , разница 173\n",
            "номер поколения: 8 , лучшая особь [0, 26, 8, 14] , разница 176\n",
            "номер поколения: 9 , лучшая особь [-1, 23, 6, 18] , разница 164\n",
            "номер поколения: 10 , лучшая особь [0, 21, 9, 13] , разница 158\n",
            "номер поколения: 11 , лучшая особь [2, 20, 4, 15] , разница 141\n",
            "номер поколения: 12 , лучшая особь [-1, 20, 4, 17] , разница 133\n",
            "номер поколения: 13 , лучшая особь [0, 17, 8, 5] , разница 95\n",
            "номер поколения: 14 , лучшая особь [-1, 19, 7, 3] , разница 80\n",
            "номер поколения: 15 , лучшая особь [-3, 21, 6, 5] , разница 79\n",
            "номер поколения: 16 , лучшая особь [-4, 13, 8, 9] , разница 75\n",
            "номер поколения: 17 , лучшая особь [-4, 15, 10, 4] , разница 72\n",
            "номер поколения: 18 , лучшая особь [-3, 14, 7, 6] , разница 63\n",
            "номер поколения: 19 , лучшая особь [-6, 18, 4, 6] , разница 40\n",
            "номер поколения: 20 , лучшая особь [-6, 16, 4, 6] , разница 32\n",
            "номер поколения: 21 , лучшая особь [-2, 16, 4, 4] , разница 46\n",
            "номер поколения: 22 , лучшая особь [-5, 16, 7, 7] , разница 64\n",
            "номер поколения: 23 , лучшая особь [-6, 18, 7, 8] , разница 71\n",
            "номер поколения: 24 , лучшая особь [-8, 22, 5, 7] , разница 56\n",
            "номер поколения: 25 , лучшая особь [-10, 20, 5, 7] , разница 36\n",
            "номер поколения: 26 , лучшая особь [-11, 22, 6, 3] , разница 25\n",
            "номер поколения: 27 , лучшая особь [-12, 24, 5, 3] , разница 20\n",
            "номер поколения: 28 , лучшая особь [-13, 21, 5, 5] , разница 12\n",
            "номер поколения: 29 , лучшая особь [-15, 22, 4, 4] , разница -8\n",
            "номер поколения: 30 , лучшая особь [-13, 25, 4, 1] , разница 1\n",
            "номер поколения: 31 , лучшая особь [-17, 30, 5, -1] , разница -6\n",
            "номер поколения: 32 , лучшая особь [-18, 28, 6, 1] , разница -3\n",
            "номер поколения: 33 , лучшая особь [-17, 30, 6, 0] , разница 6\n",
            "номер поколения: 34 , лучшая особь [-17, 27, 8, 2] , разница 18\n",
            "номер поколения: 35 , лучшая особь [-16, 33, 1, 0] , разница -11\n",
            "номер поколения: 36 , лучшая особь [-18, 33, 1, 1] , разница -18\n",
            "номер поколения: 37 , лучшая особь [-21, 31, 4, 3] , разница -13\n",
            "номер поколения: 38 , лучшая особь [-21, 37, 5, 3] , разница 18\n",
            "номер поколения: 39 , лучшая особь [-18, 32, 3, 0] , разница -13\n",
            "номер поколения: 40 , лучшая особь [-17, 31, 1, 5] , разница 0\n",
            "решение [-17, 31, 1, 5]\n",
            "поколений было 40\n"
          ]
        }
      ]
    }
  ]
}