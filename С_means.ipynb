{
  "nbformat": 4,
  "nbformat_minor": 0,
  "metadata": {
    "colab": {
      "name": "С-means.ipynb",
      "provenance": [],
      "authorship_tag": "ABX9TyO5d2kh9ASPklarwxSg9yHC",
      "include_colab_link": true
    },
    "kernelspec": {
      "name": "python3",
      "display_name": "Python 3"
    },
    "language_info": {
      "name": "python"
    }
  },
  "cells": [
    {
      "cell_type": "markdown",
      "metadata": {
        "id": "view-in-github",
        "colab_type": "text"
      },
      "source": [
        "<a href=\"https://colab.research.google.com/github/VladislavBuzanov/ml/blob/main/%D0%A1_means.ipynb\" target=\"_parent\"><img src=\"https://colab.research.google.com/assets/colab-badge.svg\" alt=\"Open In Colab\"/></a>"
      ]
    },
    {
      "cell_type": "code",
      "execution_count": null,
      "metadata": {
        "id": "f5cAfYkt1I3W"
      },
      "outputs": [],
      "source": [
        "import numpy as np\n",
        "import matplotlib.pyplot as plt\n"
      ]
    },
    {
      "cell_type": "code",
      "source": [
        "def check():\n",
        "    for i in range(0, len(cluster)):\n",
        "        for j in range(0, clusters_count):\n",
        "            if cluster[i] == j:\n",
        "                u[i][j] = 1\n",
        "            else:\n",
        "                u[i][j] = 0\n",
        "\n",
        "\n",
        "def clusters(x_cc, y_cc, x, y):\n",
        "    for i in range(0, n):\n",
        "        r = dist(x_cc[0], y_cc[0], x[i], y[i])\n",
        "        numb = 0\n",
        "        for j in range(0, clusters_count):\n",
        "            if r < dist(x_cc[j], y_cc[j], x[i], y[i]):\n",
        "                numb = j\n",
        "                r = dist(x_cc[j], y_cc[j], x[i], y[i])\n",
        "            if j == clusters_count - 1:\n",
        "                cluster[i] = numb\n",
        "\n",
        "def dist(x1, y1, x2, y2):\n",
        "    return np.sqrt((x1 - x2) ** 2 + (y1 - y2) ** 2)"
      ],
      "metadata": {
        "id": "emHC0IFZ1cvc"
      },
      "execution_count": null,
      "outputs": []
    },
    {
      "cell_type": "code",
      "source": [
        "n = 40\n",
        "x = np.random.randint(1, 1000, n)\n",
        "y = np.random.randint(1, 1000, n)\n",
        "\n",
        "x_c = np.mean(x)\n",
        "y_c = np.mean(y)\n",
        "\n",
        "clusters_count, max_iter = 4, 4\n",
        "\n",
        "m, eps = 2, 0.2\n",
        "u = np.zeros([n, clusters_count])\n",
        "u_new = np.zeros([n, clusters_count])\n"
      ],
      "metadata": {
        "id": "Gzsu1p8_16X4"
      },
      "execution_count": null,
      "outputs": []
    },
    {
      "cell_type": "code",
      "source": [
        "R = 0\n",
        "for i in range(0, n):\n",
        "    if dist(x_c, y_c, x[i], y[i]) > R:\n",
        "        R = dist(x_c, y_c, x[i], y[i])\n",
        "\n",
        "x_center_of_mass = [R * np.cos(2 * np.pi * i / clusters_count) + x_c for i in range(clusters_count)]\n",
        "y_center_of_mass = [R * np.sin(2 * np.pi * i / clusters_count) + y_c for i in range(clusters_count)]\n",
        "\n",
        "cluster = [0] * n\n",
        "\n",
        "clusters(x_center_of_mass, y_center_of_mass, x, y)\n",
        "check()\n",
        "\n",
        "for dik in range(max_iter):\n",
        "    u_sum = [0] * n\n",
        "    for i in range(0, n):\n",
        "        for j in range(0, clusters_count):\n",
        "            u_sum[i] += u[i][j]\n",
        "\n",
        "    for i in range(0, n):\n",
        "        for j in range(0, clusters_count):\n",
        "            sum = 0\n",
        "            for l in range(0, clusters_count):\n",
        "                if cluster[i] == l:\n",
        "                    sum += (dist(x_center_of_mass[j], y_center_of_mass[j], x[i], y[i]) / dist(x_center_of_mass[l],\n",
        "                                                                                              y_center_of_mass[l], x[i],\n",
        "                                                                                              y[i])) ** (2 / (m - 1))\n",
        "            u_new[i][j] = 1 / sum\n",
        "\n",
        "    for i in range(0, clusters_count):\n",
        "        x_down_sum = 0\n",
        "        x_up_sum = 0\n",
        "        y_down_sum = 0\n",
        "        y_up_sum = 0\n",
        "        for j in range(0, n):\n",
        "            if cluster[j] == i:\n",
        "                x_down_sum += (u_sum[j]) ** m\n",
        "                x_up_sum += (x[j] * ((u_sum[j]) ** m))\n",
        "\n",
        "                y_down_sum += (u_sum[j]) ** m\n",
        "                y_up_sum += (y[j] * ((u_sum[j]) ** m))\n",
        "        x_center_of_mass[i] = x_up_sum / x_down_sum\n",
        "        y_center_of_mass[i] = y_up_sum / y_down_sum\n",
        "\n",
        "    flag = True\n",
        "    for i in range(0, n):\n",
        "        for j in range(0, clusters_count):\n",
        "            if u[i][j] - u_new[i][j] < eps:\n",
        "                flag = False\n",
        "    if flag:\n",
        "        dik = max_iter\n",
        "        break\n",
        "\n",
        "    for i in range(0, n):\n",
        "        for j in range(0, clusters_count):\n",
        "            u[i][j] = u_new[i][j]\n",
        "\n",
        "plt.scatter(x, y, color='b')\n",
        "for i in range(0, n):\n",
        "    if cluster[i] == 0:\n",
        "        plt.scatter(x[i], y[i], color='r')\n",
        "    if cluster[i] == 1:\n",
        "        plt.scatter(x[i], y[i], color='b')\n",
        "    if cluster[i] == 2:\n",
        "        plt.scatter(x[i], y[i], color='g')\n",
        "    if cluster[i] == 3:\n",
        "        plt.scatter(x[i], y[i], color='y')\n",
        "plt.scatter(x_center_of_mass[0], y_center_of_mass[0], marker='o', c='r', s=250)\n",
        "if clusters_count > 1:\n",
        "    plt.scatter(x_center_of_mass[1], y_center_of_mass[1], marker='o', c='b', s=250)\n",
        "if clusters_count > 2:\n",
        "    plt.scatter(x_center_of_mass[2], y_center_of_mass[2], marker='o', c='g', s=250)\n",
        "if clusters_count > 3:\n",
        "    plt.scatter(x_center_of_mass[3], y_center_of_mass[3], marker='o', c='y', s=250)\n",
        "\n",
        "plt.show()"
      ],
      "metadata": {
        "colab": {
          "base_uri": "https://localhost:8080/",
          "height": 265
        },
        "id": "674mDe121X6k",
        "outputId": "e0afd22f-fa24-4be0-ec56-4f4ca6e4f7e8"
      },
      "execution_count": null,
      "outputs": [
        {
          "output_type": "display_data",
          "data": {
            "image/png": "[encoded data removed]",
            "text/plain": [
              "<Figure size 432x288 with 1 Axes>"
            ]
          },
          "metadata": {
            "needs_background": "light"
          }
        }
      ]
    }
  ]
}